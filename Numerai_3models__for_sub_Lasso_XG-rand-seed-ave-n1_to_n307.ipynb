{
 "cells": [
  {
   "cell_type": "markdown",
   "metadata": {
    "id": "dioJyoTnxEm3"
   },
   "source": [
    "# random seed average\n",
    "https://gist.github.com/kunigaku/2e8efdd9822c934e3164d8dbc94a50bb\n",
    "### model01-1でαとそれにに対するN数を決定し,このノートで提出データ作成"
   ]
  },
  {
   "cell_type": "code",
   "execution_count": 1,
   "metadata": {
    "id": "MaNpcfNkKUg_"
   },
   "outputs": [
    {
     "data": {
      "text/html": [
       "<style type='text/css'>\n",
       ".datatable table.frame { margin-bottom: 0; }\n",
       ".datatable table.frame thead { border-bottom: none; }\n",
       ".datatable table.frame tr.coltypes td {  color: #FFFFFF;  line-height: 6px;  padding: 0 0.5em;}\n",
       ".datatable .bool    { background: #DDDD99; }\n",
       ".datatable .object  { background: #565656; }\n",
       ".datatable .int     { background: #5D9E5D; }\n",
       ".datatable .float   { background: #4040CC; }\n",
       ".datatable .str     { background: #CC4040; }\n",
       ".datatable .row_index {  background: var(--jp-border-color3);  border-right: 1px solid var(--jp-border-color0);  color: var(--jp-ui-font-color3);  font-size: 9px;}\n",
       ".datatable .frame tr.coltypes .row_index {  background: var(--jp-border-color0);}\n",
       ".datatable th:nth-child(2) { padding-left: 12px; }\n",
       ".datatable .hellipsis {  color: var(--jp-cell-editor-border-color);}\n",
       ".datatable .vellipsis {  background: var(--jp-layout-color0);  color: var(--jp-cell-editor-border-color);}\n",
       ".datatable .na {  color: var(--jp-cell-editor-border-color);  font-size: 80%;}\n",
       ".datatable .footer { font-size: 9px; }\n",
       ".datatable .frame_dimensions {  background: var(--jp-border-color3);  border-top: 1px solid var(--jp-border-color0);  color: var(--jp-ui-font-color3);  display: inline-block;  opacity: 0.6;  padding: 1px 10px 1px 5px;}\n",
       "</style>\n"
      ],
      "text/plain": [
       "<IPython.core.display.HTML object>"
      ]
     },
     "metadata": {},
     "output_type": "display_data"
    }
   ],
   "source": [
    "# import dependencies\n",
    "import pandas as pd\n",
    "import numerapi, os, datetime,time,gc\n",
    "import sklearn.linear_model\n",
    "from sklearn.linear_model import Lasso\n",
    "from pycaret.regression import *\n",
    "\n",
    "today = datetime.date.today()\n",
    "dates = '2021-01-17'"
   ]
  },
  {
   "cell_type": "code",
   "execution_count": null,
   "metadata": {},
   "outputs": [],
   "source": [
    "training_data = pd.read_csv('./csv/numerai_train_data.csv')#.set_index(\"id\")\n",
    "tournament_data = pd.read_csv('./csv/numerai_tournament_data.csv')#.set_index('id')\n",
    "TARGET_NAME = [x for x in training_data.columns if 'target' in x][0]\n",
    "PREDICTION_NAME = \"prediction\"\n",
    "feature_cols = training_data.columns[training_data.columns.str.startswith('feature')]\n",
    "#training_features = training_data[feature_cols]"
   ]
  },
  {
   "cell_type": "code",
   "execution_count": null,
   "metadata": {},
   "outputs": [],
   "source": [
    "def dataframe_cast_to_float32(df, features):\n",
    "    typemap = {}\n",
    "    for f in features:\n",
    "        typemap[f] = 'float32'\n",
    "    return df.astype(typemap)\n",
    "# Submissions are scored by spearman correlation\n",
    "def correlation(predictions, targets):\n",
    "    ranked_preds = predictions.rank(pct=True, method=\"first\")\n",
    "    return np.corrcoef(ranked_preds, targets)[0, 1]\n",
    "\n",
    "# convenience method for scoring\n",
    "def score(df):\n",
    "    return correlation(df[PREDICTION_NAME], df[TARGET_NAME])\n",
    "\n",
    "training_data = dataframe_cast_to_float32(training_data, feature_cols)\n",
    "tournament_data = dataframe_cast_to_float32(tournament_data, feature_cols)"
   ]
  },
  {
   "cell_type": "code",
   "execution_count": null,
   "metadata": {
    "id": "rEfqpxcEWDdK"
   },
   "outputs": [],
   "source": [
    "# Get your API keys and model_id from https://numer.ai/submit\n",
    "public_id = \"TIFYUYGPJCFQZT4SBLNYIOZWQWIMC2EQ\"\n",
    "secret_key = \"QGLW6MHS7QIDPEELKVJ6DKUGBWHQMN7O3A2BCIV7CU4QKGTNVBZ7F5RRFF75M4DB\"\n",
    "model_id = \"45b2b9e3-ed1b-4d82-bb2c-84f828b403fe\"\n",
    "model_2 = 'f624d92f-3965-4242-b069-dda40993fffa'\n",
    "model_3 ='b58e9477-feb6-4cd3-ae53-290326a41ecd'\n",
    "napi = numerapi.NumerAPI(public_id=public_id, secret_key=secret_key)"
   ]
  },
  {
   "cell_type": "markdown",
   "metadata": {},
   "source": [
    "# n1"
   ]
  },
  {
   "cell_type": "code",
   "execution_count": null,
   "metadata": {},
   "outputs": [],
   "source": [
    "lists = [0.000925] # 0.000925 n1\n",
    "for i in lists:\n",
    "    print(i)"
   ]
  },
  {
   "cell_type": "code",
   "execution_count": null,
   "metadata": {},
   "outputs": [],
   "source": [
    "n_of_features =[]\n",
    "for i in lists:\n",
    "    lasso = Lasso(alpha=i).fit(training_data[feature_cols],training_data['target'])\n",
    "    sum_features = np.sum(lasso.coef_ !=0)\n",
    "    n_of_features.append([i,sum_features])\n",
    "    #n_of_features.append(sum_features)\n",
    "\n",
    "n_of_features\n",
    "\n",
    "selected_features = []\n",
    "for i,j in enumerate(lasso.coef_):\n",
    "    if j !=0:\n",
    "        selected_features.append(training_data.columns[i])\n",
    "\n",
    "import pandas as pd\n",
    "from xgboost import XGBRegressor\n",
    "\n",
    "gc.collect()\n",
    "\n",
    "predictions = []\n",
    "for itr in range(30):\n",
    "    model = XGBRegressor(max_depth=5, learning_rate=0.01,\\\n",
    "                         n_estimators=2000, n_jobs=-1, colsample_bytree=0.1, \\\n",
    "                         seed=itr, tree_method='gpu_hist')\n",
    "    model.fit(training_data[selected_features], training_data[TARGET_NAME])\n",
    "    predictions.append(model.predict(tournament_data[selected_features]))\n",
    "\n",
    "prediction_df = tournament_data[\"id\"].to_frame()\n",
    "prediction_df.fillna(0,inplace=True)\n",
    "tournament_data[TARGET_NAME].fillna(0,inplace=True)\n",
    "scores = []\n",
    "mmc =[]\n",
    "for prediction in predictions:\n",
    "    scores.append(correlation(pd.Series(prediction), tournament_data[TARGET_NAME]))\n",
    "sum(scores)/len(scores)\n",
    "\n",
    "prediction_df = tournament_data[\"id\"].to_frame()\n",
    "for itr in range(len(predictions)):\n",
    "    prediction_df[f\"prediction_{itr}\"] = predictions[itr]\n",
    "pre_col_list = prediction_df.columns[prediction_df.columns.str.startswith('prediction_')]\n",
    "pre_col_list\n",
    "prediction_df[PREDICTION_NAME] = prediction_df[pre_col_list].mean(axis=1)\n",
    "print('correlarion:',correlation(prediction_df[PREDICTION_NAME], tournament_data[TARGET_NAME]))\n",
    "\n",
    "pred = pd.DataFrame()\n",
    "pred[\"id\"] = prediction_df['id']\n",
    "pred[\"prediction\"] = prediction_df['prediction']\n",
    "pred.to_csv(\"predictions_xg_std_n1_seed_ave.csv\", index=False)\n",
    "\n",
    "submission_id = napi.upload_predictions(\n",
    "    \"predictions_xg_std_n1_seed_ave.csv\", model_id= model_2 )"
   ]
  },
  {
   "cell_type": "markdown",
   "metadata": {},
   "source": [
    "# n11"
   ]
  },
  {
   "cell_type": "code",
   "execution_count": null,
   "metadata": {},
   "outputs": [],
   "source": [
    " lists = [0.0007] "
   ]
  },
  {
   "cell_type": "code",
   "execution_count": null,
   "metadata": {},
   "outputs": [],
   "source": [
    "n_of_features =[]\n",
    "for i in lists:\n",
    "    lasso = Lasso(alpha=i).fit(training_data[feature_cols],training_data['target'])\n",
    "    sum_features = np.sum(lasso.coef_ !=0)\n",
    "    n_of_features.append([i,sum_features])\n",
    "    #n_of_features.append(sum_features)\n",
    "\n",
    "n_of_features\n",
    "\n",
    "selected_features = []\n",
    "for i,j in enumerate(lasso.coef_):\n",
    "    if j !=0:\n",
    "        selected_features.append(training_data.columns[i])\n",
    "\n",
    "import pandas as pd\n",
    "from xgboost import XGBRegressor\n",
    "\n",
    "gc.collect()\n",
    "\n",
    "predictions = []\n",
    "for itr in range(30):\n",
    "    model = XGBRegressor(max_depth=5, learning_rate=0.01,\\\n",
    "                         n_estimators=2000, n_jobs=-1, colsample_bytree=0.1, \\\n",
    "                         seed=itr, tree_method='gpu_hist')\n",
    "    model.fit(training_data[selected_features], training_data[TARGET_NAME])\n",
    "    predictions.append(model.predict(tournament_data[selected_features]))\n",
    "\n",
    "prediction_df = tournament_data[\"id\"].to_frame()\n",
    "prediction_df.fillna(0,inplace=True)\n",
    "tournament_data[TARGET_NAME].fillna(0,inplace=True)\n",
    "scores = []\n",
    "mmc =[]\n",
    "for prediction in predictions:\n",
    "    scores.append(correlation(pd.Series(prediction), tournament_data[TARGET_NAME]))\n",
    "sum(scores)/len(scores)\n",
    "\n",
    "prediction_df = tournament_data[\"id\"].to_frame()\n",
    "for itr in range(len(predictions)):\n",
    "    prediction_df[f\"prediction_{itr}\"] = predictions[itr]\n",
    "pre_col_list = prediction_df.columns[prediction_df.columns.str.startswith('prediction_')]\n",
    "pre_col_list\n",
    "prediction_df[PREDICTION_NAME] = prediction_df[pre_col_list].mean(axis=1)\n",
    "print('correlarion:',correlation(prediction_df[PREDICTION_NAME], tournament_data[TARGET_NAME]))\n",
    "\n",
    "pred = pd.DataFrame()\n",
    "pred[\"id\"] = prediction_df['id']\n",
    "pred[\"prediction\"] = prediction_df['prediction']\n",
    "pred.to_csv(\"predictions_xg_std_n11_seed_ave.csv\", index=False)\n",
    "\n",
    "submission_id = napi.upload_predictions(\n",
    "    \"predictions_xg_std_n11_seed_ave.csv\", model_id= model_3 )"
   ]
  },
  {
   "cell_type": "code",
   "execution_count": null,
   "metadata": {},
   "outputs": [],
   "source": [
    " "
   ]
  },
  {
   "cell_type": "markdown",
   "metadata": {},
   "source": [
    "# n307"
   ]
  },
  {
   "cell_type": "code",
   "execution_count": null,
   "metadata": {},
   "outputs": [],
   "source": [
    "%%time\n",
    "import pandas as pd\n",
    "from xgboost import XGBRegressor\n",
    "\n",
    "gc.collect()\n",
    "\n",
    "predictions = []\n",
    "for itr in range(30):\n",
    "    model = XGBRegressor(max_depth=5, learning_rate=0.01,\\\n",
    "                         n_estimators=2000, n_jobs=-1, colsample_bytree=0.1, \\\n",
    "                         seed=itr, tree_method='gpu_hist')\n",
    "    model.fit(training_data[feature_cols], training_data[TARGET_NAME])\n",
    "    predictions.append(model.predict(tournament_data[feature_cols]))\n",
    "\n",
    "tournament_data[TARGET_NAME].fillna(0,inplace=True)\n",
    "scores = []\n",
    "for prediction in predictions:\n",
    "    scores.append(correlation(pd.Series(prediction), tournament_data[TARGET_NAME]))\n",
    "sum(scores)/len(scores)\n",
    "\n",
    "prediction_df = tournament_data[\"id\"].to_frame()\n",
    "for itr in range(len(predictions)):\n",
    "    prediction_df[f\"prediction_{itr}\"] = predictions[itr]\n",
    "prediction_df.fillna(0,inplace=True)\n",
    "pre_col_list = prediction_df.columns[prediction_df.columns.str.startswith('prediction_')]\n",
    "prediction_df[PREDICTION_NAME] = prediction_df[pre_col_list].mean(axis=1)\n",
    "print('correlarion Model n307:',correlation(prediction_df[PREDICTION_NAME], tournament_data[TARGET_NAME]))\n",
    "\n",
    "pred = pd.DataFrame()\n",
    "pred[\"id\"] = prediction_df['id']\n",
    "pred[\"prediction\"] = prediction_df['prediction']\n",
    "pred.to_csv(\"predictions_xg_std_n311_seed_ave.csv\", index=False)\n",
    "submission_id = napi.upload_predictions(\n",
    "    \"predictions_xg_std_n311_seed_ave.csv\", model_id= model_id )"
   ]
  }
 ],
 "metadata": {
  "colab": {
   "collapsed_sections": [],
   "name": "Making your first submission on Numerai",
   "provenance": []
  },
  "kernelspec": {
   "display_name": "Python 3",
   "language": "python",
   "name": "python3"
  },
  "language_info": {
   "codemirror_mode": {
    "name": "ipython",
    "version": 3
   },
   "file_extension": ".py",
   "mimetype": "text/x-python",
   "name": "python",
   "nbconvert_exporter": "python",
   "pygments_lexer": "ipython3",
   "version": "3.7.8"
  }
 },
 "nbformat": 4,
 "nbformat_minor": 1
}
