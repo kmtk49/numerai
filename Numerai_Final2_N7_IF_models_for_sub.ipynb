{
 "cells": [
  {
   "cell_type": "code",
   "execution_count": 1,
   "metadata": {
    "id": "MaNpcfNkKUg_"
   },
   "outputs": [
    {
     "data": {
      "text/html": [
       "<style type='text/css'>\n",
       ".datatable table.frame { margin-bottom: 0; }\n",
       ".datatable table.frame thead { border-bottom: none; }\n",
       ".datatable table.frame tr.coltypes td {  color: #FFFFFF;  line-height: 6px;  padding: 0 0.5em;}\n",
       ".datatable .bool    { background: #DDDD99; }\n",
       ".datatable .object  { background: #565656; }\n",
       ".datatable .int     { background: #5D9E5D; }\n",
       ".datatable .float   { background: #4040CC; }\n",
       ".datatable .str     { background: #CC4040; }\n",
       ".datatable .row_index {  background: var(--jp-border-color3);  border-right: 1px solid var(--jp-border-color0);  color: var(--jp-ui-font-color3);  font-size: 9px;}\n",
       ".datatable .frame tr.coltypes .row_index {  background: var(--jp-border-color0);}\n",
       ".datatable th:nth-child(2) { padding-left: 12px; }\n",
       ".datatable .hellipsis {  color: var(--jp-cell-editor-border-color);}\n",
       ".datatable .vellipsis {  background: var(--jp-layout-color0);  color: var(--jp-cell-editor-border-color);}\n",
       ".datatable .na {  color: var(--jp-cell-editor-border-color);  font-size: 80%;}\n",
       ".datatable .footer { font-size: 9px; }\n",
       ".datatable .frame_dimensions {  background: var(--jp-border-color3);  border-top: 1px solid var(--jp-border-color0);  color: var(--jp-ui-font-color3);  display: inline-block;  opacity: 0.6;  padding: 1px 10px 1px 5px;}\n",
       "</style>\n"
      ],
      "text/plain": [
       "<IPython.core.display.HTML object>"
      ]
     },
     "metadata": {},
     "output_type": "display_data"
    }
   ],
   "source": [
    "# import dependencies\n",
    "import pandas as pd\n",
    "import numerapi, os, datetime,time,gc\n",
    "import sklearn.linear_model\n",
    "from sklearn.linear_model import Lasso\n",
    "from pycaret.regression import *\n",
    "\n",
    "today = datetime.date.today()\n",
    "dates = '2021-01-17'"
   ]
  },
  {
   "cell_type": "code",
   "execution_count": 2,
   "metadata": {},
   "outputs": [
    {
     "name": "stdout",
     "output_type": "stream",
     "text": [
      "Memory usage after optimization is: 309.15 MB\n",
      "Decreased by 74.3%\n",
      "Memory usage after optimization is: 1069.75 MB\n",
      "Decreased by 74.3%\n"
     ]
    }
   ],
   "source": [
    "#https://forum.numer.ai/t/reducing-memory/313\n",
    "def reduce_mem_usage(df, verbose=True):\n",
    "    numerics = ['int16', 'int32', 'int64', 'float16', 'float32', 'float64']\n",
    "    start_mem = df.memory_usage().sum() / 1024**2\n",
    "    for col in df.columns:\n",
    "        col_type = df[col].dtypes\n",
    "        if col_type in numerics:\n",
    "            c_min = df[col].min()\n",
    "            c_max = df[col].max()\n",
    "            if str(col_type)[:3] == 'int':\n",
    "                if c_min > np.iinfo(np.int8).min and c_max < np.iinfo(np.int8).max:\n",
    "                    df[col] = df[col].astype(np.int8)\n",
    "                elif c_min > np.iinfo(np.int16).min and c_max < np.iinfo(np.int16).max:\n",
    "                    df[col] = df[col].astype(np.int16)\n",
    "                elif c_min > np.iinfo(np.int32).min and c_max < np.iinfo(np.int32).max:\n",
    "                    df[col] = df[col].astype(np.int32)\n",
    "                elif c_min > np.iinfo(np.int64).min and c_max < np.iinfo(np.int64).max:\n",
    "                    df[col] = df[col].astype(np.int64)\n",
    "            else:\n",
    "                if c_min > np.finfo(np.float16).min and c_max < np.finfo(np.float16).max:\n",
    "                    df[col] = df[col].astype(np.float16)\n",
    "                elif c_min > np.finfo(np.float32).min and c_max < np.finfo(np.float32).max:\n",
    "                    df[col] = df[col].astype(np.float32)\n",
    "                else:\n",
    "                    df[col] = df[col].astype(np.float64)\n",
    "\n",
    "    end_mem = df.memory_usage().sum() / 1024**2\n",
    "    print('Memory usage after optimization is: {:.2f} MB'.format(end_mem))\n",
    "    print('Decreased by {:.1f}%'.format(100 * (start_mem - end_mem) / start_mem))\n",
    "\n",
    "    return df\n",
    "\n",
    "training_data = reduce_mem_usage(\n",
    "    pd.read_csv(\"https://numerai-public-datasets.s3-us-west-2.amazonaws.com/latest_numerai_training_data.csv.xz\"))\n",
    "tournament_data = reduce_mem_usage(\n",
    "    pd.read_csv(\"https://numerai-public-datasets.s3-us-west-2.amazonaws.com/latest_numerai_tournament_data.csv.xz\"))"
   ]
  },
  {
   "cell_type": "code",
   "execution_count": 3,
   "metadata": {},
   "outputs": [],
   "source": [
    "#training_data = pd.read_csv('./csv/numerai_train_data.csv')#.set_index(\"id\")\n",
    "#tournament_data = pd.read_csv('./csv/numerai_tournament_data.csv')#.set_index('id')\n",
    "TARGET_NAME = [x for x in training_data.columns if 'target' in x][0]\n",
    "PREDICTION_NAME = \"prediction\"\n",
    "feature_cols = training_data.columns[training_data.columns.str.startswith('feature')]\n",
    "#training_features = training_data[feature_cols]"
   ]
  },
  {
   "cell_type": "code",
   "execution_count": 4,
   "metadata": {},
   "outputs": [
    {
     "data": {
      "text/plain": [
       "\"\\ndef dataframe_cast_to_float32(df, features):\\n    typemap = {}\\n    for f in features:\\n        typemap[f] = 'float32'\\n    return df.astype(typemap)\\n\""
      ]
     },
     "execution_count": 4,
     "metadata": {},
     "output_type": "execute_result"
    }
   ],
   "source": [
    "'''\n",
    "def dataframe_cast_to_float32(df, features):\n",
    "    typemap = {}\n",
    "    for f in features:\n",
    "        typemap[f] = 'float32'\n",
    "    return df.astype(typemap)\n",
    "'''"
   ]
  },
  {
   "cell_type": "code",
   "execution_count": 5,
   "metadata": {},
   "outputs": [],
   "source": [
    "# Submissions are scored by spearman correlation\n",
    "def correlation(predictions, targets):\n",
    "    ranked_preds = predictions.rank(pct=True, method=\"first\")\n",
    "    return np.corrcoef(ranked_preds, targets)[0, 1]\n",
    "\n",
    "# convenience method for scoring\n",
    "def score(df):\n",
    "    return correlation(df[PREDICTION_NAME], df[TARGET_NAME])\n",
    "\n",
    "#training_data = dataframe_cast_to_float32(training_data, feature_cols)\n",
    "#tournament_data = dataframe_cast_to_float32(tournament_data, feature_cols)"
   ]
  },
  {
   "cell_type": "code",
   "execution_count": 6,
   "metadata": {
    "id": "rEfqpxcEWDdK"
   },
   "outputs": [],
   "source": [
    "# Get your API keys and model_id from https://numer.ai/submit\n",
    "public_id = \"TIFYUYGPJCFQZT4SBLNYIOZWQWIMC2EQ\"\n",
    "secret_key = \"QGLW6MHS7QIDPEELKVJ6DKUGBWHQMN7O3A2BCIV7CU4QKGTNVBZ7F5RRFF75M4DB\"\n",
    "model_id = \"45b2b9e3-ed1b-4d82-bb2c-84f828b403fe\"\n",
    "model_2 = 'f624d92f-3965-4242-b069-dda40993fffa'\n",
    "model_3 ='b58e9477-feb6-4cd3-ae53-290326a41ecd'\n",
    "napi = numerapi.NumerAPI(public_id=public_id, secret_key=secret_key)"
   ]
  },
  {
   "cell_type": "markdown",
   "metadata": {},
   "source": [
    "# n11"
   ]
  },
  {
   "cell_type": "code",
   "execution_count": 7,
   "metadata": {},
   "outputs": [
    {
     "name": "stdout",
     "output_type": "stream",
     "text": [
      "0.0007\n"
     ]
    }
   ],
   "source": [
    "lists = [0.0007] \n",
    "for i in lists:\n",
    "    print(i)"
   ]
  },
  {
   "cell_type": "code",
   "execution_count": 8,
   "metadata": {},
   "outputs": [
    {
     "name": "stdout",
     "output_type": "stream",
     "text": [
      "n_of_features:  [[0.0007, 13]]\n",
      "correlarion: 0.0002710617722087143\n"
     ]
    }
   ],
   "source": [
    "n_of_features =[]\n",
    "for i in lists:\n",
    "    lasso = Lasso(alpha=i).fit(training_data[feature_cols],training_data['target'])\n",
    "    sum_features = np.sum(lasso.coef_ !=0)\n",
    "    n_of_features.append([i,sum_features])\n",
    "    #n_of_features.append(sum_features)\n",
    "\n",
    "n_of_features\n",
    "print('n_of_features: ',n_of_features)\n",
    "selected_features = []\n",
    "for i,j in enumerate(lasso.coef_):\n",
    "    if j !=0:\n",
    "        selected_features.append(training_data.columns[i])\n",
    "\n",
    "import pandas as pd\n",
    "from xgboost import XGBRegressor\n",
    "\n",
    "gc.collect()\n",
    "\n",
    "predictions = []\n",
    "for itr in range(30):\n",
    "    model = XGBRegressor(max_depth=5, learning_rate=0.01,\\\n",
    "                         n_estimators=2000, n_jobs=-1, colsample_bytree=0.1, \\\n",
    "                         seed=itr, tree_method='gpu_hist')\n",
    "    model.fit(training_data[selected_features], training_data[TARGET_NAME])\n",
    "    predictions.append(model.predict(tournament_data[selected_features]))\n",
    "\n",
    "prediction_df = tournament_data[\"id\"].to_frame()\n",
    "prediction_df.fillna(0,inplace=True)\n",
    "tournament_data[TARGET_NAME].fillna(0,inplace=True)\n",
    "scores = []\n",
    "mmc =[]\n",
    "for prediction in predictions:\n",
    "    scores.append(correlation(pd.Series(prediction), tournament_data[TARGET_NAME]))\n",
    "sum(scores)/len(scores)\n",
    "\n",
    "prediction_df = tournament_data[\"id\"].to_frame()\n",
    "for itr in range(len(predictions)):\n",
    "    prediction_df[f\"prediction_{itr}\"] = predictions[itr]\n",
    "pre_col_list = prediction_df.columns[prediction_df.columns.str.startswith('prediction_')]\n",
    "pre_col_list\n",
    "prediction_df[PREDICTION_NAME] = prediction_df[pre_col_list].mean(axis=1)\n",
    "print('correlarion:',correlation(prediction_df[PREDICTION_NAME], tournament_data[TARGET_NAME]))"
   ]
  },
  {
   "cell_type": "code",
   "execution_count": 9,
   "metadata": {},
   "outputs": [],
   "source": [
    "pred = pd.DataFrame()\n",
    "pred[\"id\"] = prediction_df['id']\n",
    "pred[\"prediction\"] = prediction_df['prediction']\n",
    "pred.to_csv(\"./sub/predictions_xg_std_n11_seed_ave.csv\", index=False)"
   ]
  },
  {
   "cell_type": "code",
   "execution_count": 10,
   "metadata": {},
   "outputs": [
    {
     "data": {
      "text/plain": [
       "1.0005358457565308"
      ]
     },
     "execution_count": 10,
     "metadata": {},
     "output_type": "execute_result"
    }
   ],
   "source": [
    "median = pred['prediction'].median() *2\n",
    "median"
   ]
  },
  {
   "cell_type": "code",
   "execution_count": 11,
   "metadata": {},
   "outputs": [
    {
     "name": "stderr",
     "output_type": "stream",
     "text": [
      "2021-06-06 06:55:31,894 INFO numexpr.utils: Note: NumExpr detected 16 cores but \"NUMEXPR_MAX_THREADS\" not set, so enforcing safe limit of 8.\n",
      "2021-06-06 06:55:31,895 INFO numexpr.utils: NumExpr defaulting to 8 threads.\n"
     ]
    }
   ],
   "source": [
    "pred2 = pd.DataFrame()\n",
    "pred2[\"id\"] = prediction_df['id']\n",
    "pred2[\"prediction\"] = median -prediction_df['prediction']\n",
    "pred2.to_csv(\"./sub/predictions2_xg_std_n11_seed_ave.csv\", index=False)"
   ]
  },
  {
   "cell_type": "markdown",
   "metadata": {},
   "source": [
    "### 負データはPred2で保存。Corrが負ならModel1,3は負データ。Model2逆 目安は0.022~0.04"
   ]
  },
  {
   "cell_type": "code",
   "execution_count": 12,
   "metadata": {},
   "outputs": [
    {
     "data": {
      "text/html": [
       "<div>\n",
       "<style scoped>\n",
       "    .dataframe tbody tr th:only-of-type {\n",
       "        vertical-align: middle;\n",
       "    }\n",
       "\n",
       "    .dataframe tbody tr th {\n",
       "        vertical-align: top;\n",
       "    }\n",
       "\n",
       "    .dataframe thead th {\n",
       "        text-align: right;\n",
       "    }\n",
       "</style>\n",
       "<table border=\"1\" class=\"dataframe\">\n",
       "  <thead>\n",
       "    <tr style=\"text-align: right;\">\n",
       "      <th></th>\n",
       "      <th>prediction</th>\n",
       "    </tr>\n",
       "  </thead>\n",
       "  <tbody>\n",
       "    <tr>\n",
       "      <th>count</th>\n",
       "      <td>1.736405e+06</td>\n",
       "    </tr>\n",
       "    <tr>\n",
       "      <th>mean</th>\n",
       "      <td>5.003251e-01</td>\n",
       "    </tr>\n",
       "    <tr>\n",
       "      <th>std</th>\n",
       "      <td>4.972872e-03</td>\n",
       "    </tr>\n",
       "    <tr>\n",
       "      <th>min</th>\n",
       "      <td>4.784310e-01</td>\n",
       "    </tr>\n",
       "    <tr>\n",
       "      <th>25%</th>\n",
       "      <td>4.968327e-01</td>\n",
       "    </tr>\n",
       "    <tr>\n",
       "      <th>50%</th>\n",
       "      <td>5.002679e-01</td>\n",
       "    </tr>\n",
       "    <tr>\n",
       "      <th>75%</th>\n",
       "      <td>5.037872e-01</td>\n",
       "    </tr>\n",
       "    <tr>\n",
       "      <th>max</th>\n",
       "      <td>5.189581e-01</td>\n",
       "    </tr>\n",
       "  </tbody>\n",
       "</table>\n",
       "</div>"
      ],
      "text/plain": [
       "         prediction\n",
       "count  1.736405e+06\n",
       "mean   5.003251e-01\n",
       "std    4.972872e-03\n",
       "min    4.784310e-01\n",
       "25%    4.968327e-01\n",
       "50%    5.002679e-01\n",
       "75%    5.037872e-01\n",
       "max    5.189581e-01"
      ]
     },
     "execution_count": 12,
     "metadata": {},
     "output_type": "execute_result"
    }
   ],
   "source": [
    "pred2.describe()"
   ]
  },
  {
   "cell_type": "code",
   "execution_count": 13,
   "metadata": {},
   "outputs": [
    {
     "data": {
      "text/html": [
       "<div>\n",
       "<style scoped>\n",
       "    .dataframe tbody tr th:only-of-type {\n",
       "        vertical-align: middle;\n",
       "    }\n",
       "\n",
       "    .dataframe tbody tr th {\n",
       "        vertical-align: top;\n",
       "    }\n",
       "\n",
       "    .dataframe thead th {\n",
       "        text-align: right;\n",
       "    }\n",
       "</style>\n",
       "<table border=\"1\" class=\"dataframe\">\n",
       "  <thead>\n",
       "    <tr style=\"text-align: right;\">\n",
       "      <th></th>\n",
       "      <th>prediction</th>\n",
       "    </tr>\n",
       "  </thead>\n",
       "  <tbody>\n",
       "    <tr>\n",
       "      <th>count</th>\n",
       "      <td>1.736405e+06</td>\n",
       "    </tr>\n",
       "    <tr>\n",
       "      <th>mean</th>\n",
       "      <td>5.002106e-01</td>\n",
       "    </tr>\n",
       "    <tr>\n",
       "      <th>std</th>\n",
       "      <td>4.972872e-03</td>\n",
       "    </tr>\n",
       "    <tr>\n",
       "      <th>min</th>\n",
       "      <td>4.815778e-01</td>\n",
       "    </tr>\n",
       "    <tr>\n",
       "      <th>25%</th>\n",
       "      <td>4.967486e-01</td>\n",
       "    </tr>\n",
       "    <tr>\n",
       "      <th>50%</th>\n",
       "      <td>5.002679e-01</td>\n",
       "    </tr>\n",
       "    <tr>\n",
       "      <th>75%</th>\n",
       "      <td>5.037032e-01</td>\n",
       "    </tr>\n",
       "    <tr>\n",
       "      <th>max</th>\n",
       "      <td>5.221049e-01</td>\n",
       "    </tr>\n",
       "  </tbody>\n",
       "</table>\n",
       "</div>"
      ],
      "text/plain": [
       "         prediction\n",
       "count  1.736405e+06\n",
       "mean   5.002106e-01\n",
       "std    4.972872e-03\n",
       "min    4.815778e-01\n",
       "25%    4.967486e-01\n",
       "50%    5.002679e-01\n",
       "75%    5.037032e-01\n",
       "max    5.221049e-01"
      ]
     },
     "execution_count": 13,
     "metadata": {},
     "output_type": "execute_result"
    }
   ],
   "source": [
    "pred.describe()"
   ]
  },
  {
   "cell_type": "code",
   "execution_count": 14,
   "metadata": {},
   "outputs": [
    {
     "data": {
      "text/html": [
       "<div>\n",
       "<style scoped>\n",
       "    .dataframe tbody tr th:only-of-type {\n",
       "        vertical-align: middle;\n",
       "    }\n",
       "\n",
       "    .dataframe tbody tr th {\n",
       "        vertical-align: top;\n",
       "    }\n",
       "\n",
       "    .dataframe thead th {\n",
       "        text-align: right;\n",
       "    }\n",
       "</style>\n",
       "<table border=\"1\" class=\"dataframe\">\n",
       "  <thead>\n",
       "    <tr style=\"text-align: right;\">\n",
       "      <th></th>\n",
       "      <th>id</th>\n",
       "      <th>prediction</th>\n",
       "    </tr>\n",
       "  </thead>\n",
       "  <tbody>\n",
       "    <tr>\n",
       "      <th>0</th>\n",
       "      <td>n0003aa52cab36c2</td>\n",
       "      <td>0.504852</td>\n",
       "    </tr>\n",
       "    <tr>\n",
       "      <th>1</th>\n",
       "      <td>n000920ed083903f</td>\n",
       "      <td>0.507622</td>\n",
       "    </tr>\n",
       "    <tr>\n",
       "      <th>2</th>\n",
       "      <td>n0038e640522c4a6</td>\n",
       "      <td>0.494481</td>\n",
       "    </tr>\n",
       "    <tr>\n",
       "      <th>3</th>\n",
       "      <td>n004ac94a87dc54b</td>\n",
       "      <td>0.493649</td>\n",
       "    </tr>\n",
       "    <tr>\n",
       "      <th>4</th>\n",
       "      <td>n0052fe97ea0c05f</td>\n",
       "      <td>0.500324</td>\n",
       "    </tr>\n",
       "    <tr>\n",
       "      <th>...</th>\n",
       "      <td>...</td>\n",
       "      <td>...</td>\n",
       "    </tr>\n",
       "    <tr>\n",
       "      <th>1736400</th>\n",
       "      <td>nffb5c07977c1523</td>\n",
       "      <td>0.499088</td>\n",
       "    </tr>\n",
       "    <tr>\n",
       "      <th>1736401</th>\n",
       "      <td>nffba1986e9d2901</td>\n",
       "      <td>0.492479</td>\n",
       "    </tr>\n",
       "    <tr>\n",
       "      <th>1736402</th>\n",
       "      <td>nffbf43467e75e64</td>\n",
       "      <td>0.505634</td>\n",
       "    </tr>\n",
       "    <tr>\n",
       "      <th>1736403</th>\n",
       "      <td>nffd9381ffdb9297</td>\n",
       "      <td>0.502092</td>\n",
       "    </tr>\n",
       "    <tr>\n",
       "      <th>1736404</th>\n",
       "      <td>nffe50a4328f828a</td>\n",
       "      <td>0.495096</td>\n",
       "    </tr>\n",
       "  </tbody>\n",
       "</table>\n",
       "<p>1736405 rows × 2 columns</p>\n",
       "</div>"
      ],
      "text/plain": [
       "                       id  prediction\n",
       "0        n0003aa52cab36c2    0.504852\n",
       "1        n000920ed083903f    0.507622\n",
       "2        n0038e640522c4a6    0.494481\n",
       "3        n004ac94a87dc54b    0.493649\n",
       "4        n0052fe97ea0c05f    0.500324\n",
       "...                   ...         ...\n",
       "1736400  nffb5c07977c1523    0.499088\n",
       "1736401  nffba1986e9d2901    0.492479\n",
       "1736402  nffbf43467e75e64    0.505634\n",
       "1736403  nffd9381ffdb9297    0.502092\n",
       "1736404  nffe50a4328f828a    0.495096\n",
       "\n",
       "[1736405 rows x 2 columns]"
      ]
     },
     "execution_count": 14,
     "metadata": {},
     "output_type": "execute_result"
    }
   ],
   "source": [
    "pred2"
   ]
  },
  {
   "cell_type": "code",
   "execution_count": 15,
   "metadata": {},
   "outputs": [
    {
     "data": {
      "text/html": [
       "<div>\n",
       "<style scoped>\n",
       "    .dataframe tbody tr th:only-of-type {\n",
       "        vertical-align: middle;\n",
       "    }\n",
       "\n",
       "    .dataframe tbody tr th {\n",
       "        vertical-align: top;\n",
       "    }\n",
       "\n",
       "    .dataframe thead th {\n",
       "        text-align: right;\n",
       "    }\n",
       "</style>\n",
       "<table border=\"1\" class=\"dataframe\">\n",
       "  <thead>\n",
       "    <tr style=\"text-align: right;\">\n",
       "      <th></th>\n",
       "      <th>id</th>\n",
       "      <th>prediction</th>\n",
       "    </tr>\n",
       "  </thead>\n",
       "  <tbody>\n",
       "    <tr>\n",
       "      <th>0</th>\n",
       "      <td>n0003aa52cab36c2</td>\n",
       "      <td>0.495684</td>\n",
       "    </tr>\n",
       "    <tr>\n",
       "      <th>1</th>\n",
       "      <td>n000920ed083903f</td>\n",
       "      <td>0.492914</td>\n",
       "    </tr>\n",
       "    <tr>\n",
       "      <th>2</th>\n",
       "      <td>n0038e640522c4a6</td>\n",
       "      <td>0.506055</td>\n",
       "    </tr>\n",
       "    <tr>\n",
       "      <th>3</th>\n",
       "      <td>n004ac94a87dc54b</td>\n",
       "      <td>0.506887</td>\n",
       "    </tr>\n",
       "    <tr>\n",
       "      <th>4</th>\n",
       "      <td>n0052fe97ea0c05f</td>\n",
       "      <td>0.500212</td>\n",
       "    </tr>\n",
       "    <tr>\n",
       "      <th>...</th>\n",
       "      <td>...</td>\n",
       "      <td>...</td>\n",
       "    </tr>\n",
       "    <tr>\n",
       "      <th>1736400</th>\n",
       "      <td>nffb5c07977c1523</td>\n",
       "      <td>0.501447</td>\n",
       "    </tr>\n",
       "    <tr>\n",
       "      <th>1736401</th>\n",
       "      <td>nffba1986e9d2901</td>\n",
       "      <td>0.508057</td>\n",
       "    </tr>\n",
       "    <tr>\n",
       "      <th>1736402</th>\n",
       "      <td>nffbf43467e75e64</td>\n",
       "      <td>0.494902</td>\n",
       "    </tr>\n",
       "    <tr>\n",
       "      <th>1736403</th>\n",
       "      <td>nffd9381ffdb9297</td>\n",
       "      <td>0.498444</td>\n",
       "    </tr>\n",
       "    <tr>\n",
       "      <th>1736404</th>\n",
       "      <td>nffe50a4328f828a</td>\n",
       "      <td>0.505440</td>\n",
       "    </tr>\n",
       "  </tbody>\n",
       "</table>\n",
       "<p>1736405 rows × 2 columns</p>\n",
       "</div>"
      ],
      "text/plain": [
       "                       id  prediction\n",
       "0        n0003aa52cab36c2    0.495684\n",
       "1        n000920ed083903f    0.492914\n",
       "2        n0038e640522c4a6    0.506055\n",
       "3        n004ac94a87dc54b    0.506887\n",
       "4        n0052fe97ea0c05f    0.500212\n",
       "...                   ...         ...\n",
       "1736400  nffb5c07977c1523    0.501447\n",
       "1736401  nffba1986e9d2901    0.508057\n",
       "1736402  nffbf43467e75e64    0.494902\n",
       "1736403  nffd9381ffdb9297    0.498444\n",
       "1736404  nffe50a4328f828a    0.505440\n",
       "\n",
       "[1736405 rows x 2 columns]"
      ]
     },
     "execution_count": 15,
     "metadata": {},
     "output_type": "execute_result"
    }
   ],
   "source": [
    "pred"
   ]
  },
  {
   "cell_type": "code",
   "execution_count": null,
   "metadata": {},
   "outputs": [],
   "source": []
  },
  {
   "cell_type": "code",
   "execution_count": 16,
   "metadata": {},
   "outputs": [
    {
     "name": "stderr",
     "output_type": "stream",
     "text": [
      "2021-06-06 06:55:37,043 INFO numerapi.base_api: uploading predictions...\n",
      "2021-06-06 06:56:05,499 INFO numerapi.base_api: uploading predictions...\n",
      "2021-06-06 06:56:40,130 INFO numerapi.base_api: uploading predictions...\n"
     ]
    },
    {
     "name": "stdout",
     "output_type": "stream",
     "text": [
      "uploaded prediction to KMTK49\n"
     ]
    }
   ],
   "source": [
    "if correlation(pd.Series(prediction), tournament_data[TARGET_NAME])>0: #0.022\n",
    "    submission_id = napi.upload_predictions(\n",
    "    \"./sub/predictions_xg_std_n11_seed_ave.csv\", model_id= model_id)\n",
    "    submission_id = napi.upload_predictions(\n",
    "    \"./sub/predictions2_xg_std_n11_seed_ave.csv\", model_id= model_2)\n",
    "    submission_id = napi.upload_predictions(\n",
    "    \"./sub/predictions_xg_std_n11_seed_ave.csv\", model_id= model_3)\n",
    "    print('uploaded prediction to KMTK49')\n",
    "else:\n",
    "    submission_id = napi.upload_predictions(\n",
    "    \"./sub/predictions2_xg_std_n11_seed_ave.csv\", model_id= model_id)\n",
    "    submission_id = napi.upload_predictions(\n",
    "    \"./sub/predictions_xg_std_n11_seed_ave.csv\", model_id= model_2)\n",
    "    submission_id = napi.upload_predictions(\n",
    "    \"./sub/predictions2_xg_std_n11_seed_ave.csv\", model_id= model_3)\n",
    "    print('uploaded prediction2 to KMTK49')"
   ]
  },
  {
   "cell_type": "code",
   "execution_count": 17,
   "metadata": {},
   "outputs": [
    {
     "name": "stdout",
     "output_type": "stream",
     "text": [
      "correlation: 0.0002710617722087143\n"
     ]
    }
   ],
   "source": [
    "print('correlation:',correlation(prediction_df[PREDICTION_NAME], tournament_data[TARGET_NAME]))"
   ]
  },
  {
   "cell_type": "code",
   "execution_count": null,
   "metadata": {},
   "outputs": [],
   "source": []
  }
 ],
 "metadata": {
  "colab": {
   "collapsed_sections": [],
   "name": "Making your first submission on Numerai",
   "provenance": []
  },
  "kernelspec": {
   "display_name": "Python 3",
   "language": "python",
   "name": "python3"
  },
  "language_info": {
   "codemirror_mode": {
    "name": "ipython",
    "version": 3
   },
   "file_extension": ".py",
   "mimetype": "text/x-python",
   "name": "python",
   "nbconvert_exporter": "python",
   "pygments_lexer": "ipython3",
   "version": "3.7.8"
  }
 },
 "nbformat": 4,
 "nbformat_minor": 1
}
