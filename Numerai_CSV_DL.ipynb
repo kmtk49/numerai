{
 "cells": [
  {
   "cell_type": "code",
   "execution_count": 6,
   "metadata": {
    "id": "MaNpcfNkKUg_"
   },
   "outputs": [],
   "source": [
    "# import dependencies\n",
    "import pandas as pd\n",
    "import numerapi, time, datetime,os\n",
    "import sklearn.linear_model\n",
    "from sklearn.ensemble import RandomForestRegressor\n",
    "from pycaret.regression import *\n",
    "\n",
    "today = datetime.date.today()\n",
    "os.makedirs('./csv/'+str(today),exist_ok =True)"
   ]
  },
  {
   "cell_type": "code",
   "execution_count": 7,
   "metadata": {
    "colab": {
     "base_uri": "https://localhost:8080/",
     "height": 253
    },
    "id": "EyB8NsbUNNWR",
    "outputId": "2d54bdb3-60d1-4283-9162-3d8478c7ca94"
   },
   "outputs": [],
   "source": [
    "# download the latest training dataset (takes around 30s)\n",
    "training_data = pd.read_csv(\"https://numerai-public-datasets.s3-us-west-2.amazonaws.com/latest_numerai_training_data.csv.xz\")\n",
    "training_data.to_csv('./csv/'+str(today)+'/numerai_train_data.csv',index=False)\n",
    "#training_data"
   ]
  },
  {
   "cell_type": "code",
   "execution_count": 2,
   "metadata": {
    "colab": {
     "base_uri": "https://localhost:8080/",
     "height": 253
    },
    "id": "6GkhBurt73Fi",
    "outputId": "9625b068-69a7-49a4-c53c-4e8328eb9c48"
   },
   "outputs": [],
   "source": [
    "# download the latest tournament dataset (takes around 30s)\n",
    "tournament_data = pd.read_csv(\"https://numerai-public-datasets.s3-us-west-2.amazonaws.com/latest_numerai_tournament_data.csv.xz\")\n",
    "tournament_data.to_csv('./csv/'+str(today)+'/numerai_tournament_data.csv',index=False)"
   ]
  }
 ],
 "metadata": {
  "colab": {
   "collapsed_sections": [],
   "name": "Making your first submission on Numerai",
   "provenance": []
  },
  "kernelspec": {
   "display_name": "Python 3",
   "language": "python",
   "name": "python3"
  },
  "language_info": {
   "codemirror_mode": {
    "name": "ipython",
    "version": 3
   },
   "file_extension": ".py",
   "mimetype": "text/x-python",
   "name": "python",
   "nbconvert_exporter": "python",
   "pygments_lexer": "ipython3",
   "version": "3.7.6"
  }
 },
 "nbformat": 4,
 "nbformat_minor": 1
}
